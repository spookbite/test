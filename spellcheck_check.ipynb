{
 "cells": [
  {
   "cell_type": "code",
   "execution_count": 10,
   "metadata": {},
   "outputs": [
    {
     "name": "stdout",
     "output_type": "stream",
     "text": [
      "original text: cotton spandex knitted men's boxer brie\n",
      "corrected text: cotton spade knitted men's boxer brief\n"
     ]
    }
   ],
   "source": [
    "from textblob import TextBlob\n",
    " \n",
    "a = \"COTTON SPANDEX KNITTED Men's BOXER BRIE\"# incorrect spelling\n",
    "a = a.lower()\n",
    "print(\"original text: \"+str(a))\n",
    " \n",
    "b = TextBlob(a)\n",
    " \n",
    "# prints the corrected spelling\n",
    "print(\"corrected text: \"+str(b.correct()))"
   ]
  },
  {
   "cell_type": "code",
   "execution_count": 6,
   "metadata": {},
   "outputs": [
    {
     "name": "stdout",
     "output_type": "stream",
     "text": [
      "COTTON\n",
      "corrected text: COTTON\n",
      "SPANDEX\n",
      "corrected text: SPANDEX\n",
      "KNITTED\n",
      "corrected text: KNITTED\n",
      "Men's\n",
      "corrected text: Men's\n",
      "BOXER\n",
      "corrected text: BOXER\n",
      "BRIE\n",
      "corrected text: BRIE\n"
     ]
    }
   ],
   "source": [
    "correct = \"\"\n",
    "p = \"COTTON SPANDEX KNITTED Men's BOXER BRIE\"\n",
    "#res = p.split()\n",
    "#print(str(res))\n",
    "for w in p.split():\n",
    "    word = str(w)\n",
    "    print(word)\n",
    "    #print(str(word))\n",
    "    c = TextBlob(word)\n",
    "    print(\"corrected text: \"+str(c.correct()))\n",
    "    #correct = str(c.correct()) + \" \"\n",
    "#print(correct)"
   ]
  },
  {
   "cell_type": "code",
   "execution_count": 3,
   "metadata": {},
   "outputs": [
    {
     "name": "stdout",
     "output_type": "stream",
     "text": [
      "96\n",
      "corrected text: 96\n",
      "COTTON\n",
      "corrected text: COTTON\n",
      "4\n",
      "corrected text: 4\n",
      "SPANDEX\n",
      "corrected text: SPANDEX\n",
      "KNITTED\n",
      "corrected text: KNITTED\n",
      "Men's\n",
      "corrected text: Men's\n",
      "BOXER\n",
      "corrected text: BOXER\n",
      "BRIE\n",
      "corrected text: BRIE\n"
     ]
    }
   ],
   "source": [
    "correct = \"\"\n",
    "p = \"96 COTTON 4 SPANDEX KNITTED Men's BOXER BRIE\"\n",
    "res = p.split()\n",
    "#q = str(res)\n",
    "for word in res:\n",
    "    word = str(word)\n",
    "    print(word)\n",
    "    c = TextBlob(word)\n",
    "    print(\"corrected text: \"+str(c.correct()))\n",
    "    #correct = str(c.correct()) + \" \"\n",
    "#print(correct)"
   ]
  },
  {
   "cell_type": "code",
   "execution_count": null,
   "metadata": {},
   "outputs": [],
   "source": []
  }
 ],
 "metadata": {
  "kernelspec": {
   "display_name": "Python 3",
   "language": "python",
   "name": "python3"
  },
  "language_info": {
   "codemirror_mode": {
    "name": "ipython",
    "version": 3
   },
   "file_extension": ".py",
   "mimetype": "text/x-python",
   "name": "python",
   "nbconvert_exporter": "python",
   "pygments_lexer": "ipython3",
   "version": "3.7.4"
  }
 },
 "nbformat": 4,
 "nbformat_minor": 2
}
